{
 "cells": [
  {
   "cell_type": "markdown",
   "id": "accf3021",
   "metadata": {
    "papermill": {
     "duration": 0.011726,
     "end_time": "2024-02-06T08:10:18.322513",
     "exception": false,
     "start_time": "2024-02-06T08:10:18.310787",
     "status": "completed"
    },
    "tags": []
   },
   "source": [
    "### Importing standard libraries"
   ]
  },
  {
   "cell_type": "code",
   "execution_count": 1,
   "id": "de33d4e7",
   "metadata": {
    "execution": {
     "iopub.execute_input": "2024-02-06T08:10:18.345984Z",
     "iopub.status.busy": "2024-02-06T08:10:18.345084Z",
     "iopub.status.idle": "2024-02-06T08:10:21.393679Z",
     "shell.execute_reply": "2024-02-06T08:10:21.392694Z"
    },
    "papermill": {
     "duration": 3.063207,
     "end_time": "2024-02-06T08:10:21.396425",
     "exception": false,
     "start_time": "2024-02-06T08:10:18.333218",
     "status": "completed"
    },
    "tags": []
   },
   "outputs": [],
   "source": [
    "import sys\n",
    "import random\n",
    "import numpy as np\n",
    "import pandas as pd\n",
    "import torch\n",
    "\n",
    "from scipy.interpolate import interp1d\n",
    "from sklearn.preprocessing import RobustScaler"
   ]
  },
  {
   "cell_type": "markdown",
   "id": "9955685e",
   "metadata": {
    "papermill": {
     "duration": 0.010353,
     "end_time": "2024-02-06T08:10:21.417646",
     "exception": false,
     "start_time": "2024-02-06T08:10:21.407293",
     "status": "completed"
    },
    "tags": []
   },
   "source": [
    "### Installing pytorch-geometric"
   ]
  },
  {
   "cell_type": "code",
   "execution_count": 2,
   "id": "d3aee321",
   "metadata": {
    "execution": {
     "iopub.execute_input": "2024-02-06T08:10:21.440160Z",
     "iopub.status.busy": "2024-02-06T08:10:21.439681Z",
     "iopub.status.idle": "2024-02-06T08:10:27.380505Z",
     "shell.execute_reply": "2024-02-06T08:10:27.378733Z"
    },
    "papermill": {
     "duration": 5.955165,
     "end_time": "2024-02-06T08:10:27.383337",
     "exception": false,
     "start_time": "2024-02-06T08:10:21.428172",
     "status": "completed"
    },
    "tags": []
   },
   "outputs": [
    {
     "name": "stdout",
     "output_type": "stream",
     "text": [
      "\u001b[33mWARNING: Running pip as the 'root' user can result in broken permissions and conflicting behaviour with the system package manager. It is recommended to use a virtual environment instead: https://pip.pypa.io/warnings/venv\u001b[0m\u001b[33m\r\n",
      "\u001b[0m"
     ]
    }
   ],
   "source": [
    "if torch.cuda.is_available():\n",
    "    !pip install --no-index --no-deps -q /kaggle/input/torch-geometric-gpu/wheelhouse/*.whl;\n",
    "else:\n",
    "    !pip install --no-index --no-deps -q /kaggle/input/torch-geometric-cpu/wheelhouse/*.whl;"
   ]
  },
  {
   "cell_type": "code",
   "execution_count": 3,
   "id": "f78b633b",
   "metadata": {
    "execution": {
     "iopub.execute_input": "2024-02-06T08:10:27.407967Z",
     "iopub.status.busy": "2024-02-06T08:10:27.407165Z",
     "iopub.status.idle": "2024-02-06T08:11:29.748911Z",
     "shell.execute_reply": "2024-02-06T08:11:29.747527Z"
    },
    "papermill": {
     "duration": 62.356542,
     "end_time": "2024-02-06T08:11:29.751807",
     "exception": false,
     "start_time": "2024-02-06T08:10:27.395265",
     "status": "completed"
    },
    "tags": []
   },
   "outputs": [
    {
     "name": "stdout",
     "output_type": "stream",
     "text": [
      "rm: cannot remove 'software': No such file or directory\r\n"
     ]
    }
   ],
   "source": [
    "!rm  -r software\n",
    "!scp -r /kaggle/input/graphnet-and-dependencies/software ."
   ]
  },
  {
   "cell_type": "code",
   "execution_count": 4,
   "id": "52fffad8",
   "metadata": {
    "execution": {
     "iopub.execute_input": "2024-02-06T08:11:29.775645Z",
     "iopub.status.busy": "2024-02-06T08:11:29.774652Z",
     "iopub.status.idle": "2024-02-06T08:41:10.592017Z",
     "shell.execute_reply": "2024-02-06T08:41:10.590728Z"
    },
    "papermill": {
     "duration": 1780.832099,
     "end_time": "2024-02-06T08:41:10.594916",
     "exception": false,
     "start_time": "2024-02-06T08:11:29.762817",
     "status": "completed"
    },
    "tags": []
   },
   "outputs": [
    {
     "name": "stdout",
     "output_type": "stream",
     "text": [
      "\u001b[31mERROR: pip's dependency resolver does not currently take into account all the packages that are installed. This behaviour is the source of the following dependency conflicts.\r\n",
      "pandas-profiling 3.6.2 requires tqdm<4.65,>=4.48.2, but you have tqdm 4.65.0 which is incompatible.\r\n",
      "librosa 0.10.0.post2 requires soundfile>=0.12.1, but you have soundfile 0.11.0 which is incompatible.\r\n",
      "apache-beam 2.44.0 requires dill<0.3.2,>=0.3.1.1, but you have dill 0.3.6 which is incompatible.\u001b[0m\u001b[31m\r\n",
      "\u001b[0m\u001b[33mWARNING: Running pip as the 'root' user can result in broken permissions and conflicting behaviour with the system package manager. It is recommended to use a virtual environment instead: https://pip.pypa.io/warnings/venv\u001b[0m\u001b[33m\r\n",
      "\u001b[0m"
     ]
    }
   ],
   "source": [
    "!cd software/graphnet;pip install --no-index -q --find-links=\"/kaggle/working/software/dependencies\" -e .[torch];"
   ]
  },
  {
   "cell_type": "code",
   "execution_count": 5,
   "id": "04bea30e",
   "metadata": {
    "execution": {
     "iopub.execute_input": "2024-02-06T08:41:10.618903Z",
     "iopub.status.busy": "2024-02-06T08:41:10.618056Z",
     "iopub.status.idle": "2024-02-06T08:41:11.376145Z",
     "shell.execute_reply": "2024-02-06T08:41:11.375250Z"
    },
    "papermill": {
     "duration": 0.773001,
     "end_time": "2024-02-06T08:41:11.378845",
     "exception": false,
     "start_time": "2024-02-06T08:41:10.605844",
     "status": "completed"
    },
    "tags": []
   },
   "outputs": [],
   "source": [
    "from torch_geometric.data import Data, Dataset\n",
    "from torch_geometric.loader import DataLoader\n",
    "from torch_geometric.nn.pool import knn_graph"
   ]
  },
  {
   "cell_type": "markdown",
   "id": "238dd57b",
   "metadata": {
    "papermill": {
     "duration": 0.01076,
     "end_time": "2024-02-06T08:41:11.401152",
     "exception": false,
     "start_time": "2024-02-06T08:41:11.390392",
     "status": "completed"
    },
    "tags": []
   },
   "source": [
    "### Importing EdgeModel"
   ]
  },
  {
   "cell_type": "code",
   "execution_count": 6,
   "id": "f5239dc5",
   "metadata": {
    "execution": {
     "iopub.execute_input": "2024-02-06T08:41:11.424916Z",
     "iopub.status.busy": "2024-02-06T08:41:11.424571Z",
     "iopub.status.idle": "2024-02-06T08:41:16.087021Z",
     "shell.execute_reply": "2024-02-06T08:41:16.085800Z"
    },
    "papermill": {
     "duration": 4.677402,
     "end_time": "2024-02-06T08:41:16.089686",
     "exception": false,
     "start_time": "2024-02-06T08:41:11.412284",
     "status": "completed"
    },
    "tags": []
   },
   "outputs": [],
   "source": [
    "sys.path.append('/kaggle/input/icecube-model')\n",
    "from EdgeModel import EdgeModel"
   ]
  },
  {
   "cell_type": "markdown",
   "id": "2b9d351d",
   "metadata": {
    "papermill": {
     "duration": 0.012508,
     "end_time": "2024-02-06T08:41:16.115236",
     "exception": false,
     "start_time": "2024-02-06T08:41:16.102728",
     "status": "completed"
    },
    "tags": []
   },
   "source": [
    "### Setting seed = 0 for reproducibility and constants"
   ]
  },
  {
   "cell_type": "code",
   "execution_count": 7,
   "id": "47d4e45d",
   "metadata": {
    "execution": {
     "iopub.execute_input": "2024-02-06T08:41:16.142665Z",
     "iopub.status.busy": "2024-02-06T08:41:16.141845Z",
     "iopub.status.idle": "2024-02-06T08:41:16.148210Z",
     "shell.execute_reply": "2024-02-06T08:41:16.147063Z"
    },
    "papermill": {
     "duration": 0.022978,
     "end_time": "2024-02-06T08:41:16.150973",
     "exception": false,
     "start_time": "2024-02-06T08:41:16.127995",
     "status": "completed"
    },
    "tags": []
   },
   "outputs": [],
   "source": [
    "INPUT_PATH = \"/kaggle/input/icecube-neutrinos-in-deep-ice\"\n",
    "TRANSPARENCY_PATH = \"/kaggle/input/icecubetransparency/ice_transparency.txt\"\n",
    "MODEL_PATH = \"/kaggle/input/gnn-ready-model/EdgeConvV10.pth\"\n",
    "MODE = 'train'\n",
    "TRAIN_BATCHES = 3\n",
    "\n",
    "_dtype = {\n",
    "    \"batch_id\": \"int16\",\n",
    "    \"event_id\": \"int64\",\n",
    "}"
   ]
  },
  {
   "cell_type": "code",
   "execution_count": 8,
   "id": "0f5c7229",
   "metadata": {
    "execution": {
     "iopub.execute_input": "2024-02-06T08:41:16.177724Z",
     "iopub.status.busy": "2024-02-06T08:41:16.176991Z",
     "iopub.status.idle": "2024-02-06T08:41:16.190173Z",
     "shell.execute_reply": "2024-02-06T08:41:16.189115Z"
    },
    "papermill": {
     "duration": 0.029234,
     "end_time": "2024-02-06T08:41:16.192723",
     "exception": false,
     "start_time": "2024-02-06T08:41:16.163489",
     "status": "completed"
    },
    "tags": []
   },
   "outputs": [],
   "source": [
    "def seed_settings(seed=0):\n",
    "    random.seed(seed)\n",
    "    np.random.seed(seed)\n",
    "    torch.manual_seed(seed)\n",
    "    torch.backends.cudnn.deterministic = True\n",
    "\n",
    "seed_settings(seed=0)"
   ]
  },
  {
   "cell_type": "markdown",
   "id": "358b710f",
   "metadata": {
    "papermill": {
     "duration": 0.012662,
     "end_time": "2024-02-06T08:41:16.217715",
     "exception": false,
     "start_time": "2024-02-06T08:41:16.205053",
     "status": "completed"
    },
    "tags": []
   },
   "source": [
    "## Dataset"
   ]
  },
  {
   "cell_type": "markdown",
   "id": "234188a0",
   "metadata": {
    "papermill": {
     "duration": 0.012029,
     "end_time": "2024-02-06T08:41:16.242178",
     "exception": false,
     "start_time": "2024-02-06T08:41:16.230149",
     "status": "completed"
    },
    "tags": []
   },
   "source": [
    "### Making features using ice transparency data"
   ]
  },
  {
   "cell_type": "code",
   "execution_count": 9,
   "id": "3968b682",
   "metadata": {
    "execution": {
     "iopub.execute_input": "2024-02-06T08:41:16.268999Z",
     "iopub.status.busy": "2024-02-06T08:41:16.268276Z",
     "iopub.status.idle": "2024-02-06T08:41:17.243983Z",
     "shell.execute_reply": "2024-02-06T08:41:17.242884Z"
    },
    "papermill": {
     "duration": 0.992127,
     "end_time": "2024-02-06T08:41:17.246739",
     "exception": false,
     "start_time": "2024-02-06T08:41:16.254612",
     "status": "completed"
    },
    "tags": []
   },
   "outputs": [
    {
     "name": "stdout",
     "output_type": "stream",
     "text": [
      "depth scattering_len absorption_len\r\n",
      "1398.4 13.2 45.1\r\n",
      "1408.4 14.0 48.6\r\n",
      "1418.4 14.7 53.2\r\n",
      "1428.4 17.0 57.6\r\n",
      "1438.4 16.0 57.6\r\n",
      "1448.4 14.4 52.2\r\n",
      "1458.4 16.0 60.1\r\n",
      "1468.4 20.8 74.6\r\n",
      "1478.4 26.7 96.6\r\n",
      "1488.4 34.7 110.5\r\n",
      "1498.4 39.7 135.6\r\n",
      "1508.5 38.7 134.7\r\n",
      "1518.6 27.8 98.2\r\n",
      "1528.7 16.6 64.7\r\n",
      "1538.8 13.7 48.5\r\n",
      "1548.7 13.5 44.3\r\n",
      "1558.7 15.7 54.4\r\n",
      "1568.5 15.7 56.7\r\n",
      "1578.5 14.7 52.1\r\n",
      "1588.5 17.6 60.7\r\n",
      "1598.5 21.6 72.7\r\n",
      "1608.5 24.0 78.9\r\n",
      "1618.5 20.0 68.7\r\n",
      "1628.5 17.8 66.6\r\n",
      "1638.5 28.9 100.0\r\n",
      "1648.4 36.9 128.6\r\n",
      "1658.4 42.1 148.2\r\n",
      "1668.4 46.5 165.7\r\n",
      "1678.5 45.4 156.0\r\n",
      "1688.5 39.1 138.5\r\n",
      "1698.5 30.6 113.9\r\n",
      "1708.5 26.5 90.2\r\n",
      "1718.5 19.3 73.5\r\n",
      "1728.5 20.8 75.9\r\n",
      "1738.5 20.1 67.8\r\n",
      "1748.5 20.3 68.6\r\n",
      "1758.5 24.5 83.8\r\n",
      "1768.5 33.5 119.5\r\n",
      "1778.5 36.2 121.6\r\n",
      "1788.5 35.4 108.3\r\n",
      "1798.5 32.3 113.4\r\n",
      "1808.5 40.2 139.1\r\n",
      "1818.4 44.7 148.1\r\n",
      "1828.4 34.5 122.8\r\n",
      "1838.4 30.6 113.8\r\n",
      "1848.4 27.5 89.9\r\n",
      "1858.4 19.7 71.7\r\n",
      "1868.5 21.4 70.6\r\n",
      "1878.5 28.8 95.9\r\n",
      "1888.5 38.3 116.5\r\n",
      "1898.5 38.4 143.6\r\n",
      "1908.5 44.2 169.4\r\n",
      "1918.5 50.5 178.0\r\n",
      "1928.5 46.6 156.5\r\n",
      "1938.5 36.8 135.3\r\n",
      "1948.5 26.7 103.9\r\n",
      "1958.5 20.3 75.2\r\n",
      "1968.5 17.4 66.2\r\n",
      "1978.5 16.1 53.7\r\n",
      "1988.4 9.4 33.6\r\n",
      "1998.4 10.6 36.2\r\n",
      "2008.4 13.2 44.0\r\n",
      "2018.5 10.9 40.4\r\n",
      "2028.5 6.8 24.9\r\n",
      "2038.5 5.5 20.1\r\n",
      "2048.5 5.0 17.9\r\n",
      "2058.5 7.2 28.4\r\n",
      "2068.5 9.8 34.4\r\n",
      "2078.5 12.2 41.6\r\n",
      "2088.5 21.1 84.4\r\n",
      "2098.5 54.3 173.1\r\n",
      "2108.5 50.5 180.8\r\n",
      "2118.4 33.5 116.7\r\n",
      "2128.4 34.6 120.4\r\n",
      "2138.4 48.4 164.4\r\n",
      "2148.4 53.2 172.8\r\n",
      "2158.3 46.3 149.2\r\n",
      "2168.3 32.9 108.4\r\n",
      "2178.3 27.4 91.1\r\n",
      "2188.2 30.5 98.9\r\n",
      "2198.2 28.9 94.0\r\n",
      "2208.2 35.1 113.1\r\n",
      "2218.2 39.9 134.8\r\n",
      "2228.2 48.0 154.1\r\n",
      "2238.3 53.3 157.6\r\n",
      "2248.3 54.8 180.5\r\n",
      "2258.3 57.9 179.7\r\n",
      "2268.2 61.1 185.2\r\n",
      "2278.2 76.8 227.2\r\n",
      "2288.1 79.0 220.8\r\n",
      "2298.0 75.6 223.9\r\n",
      "2308.0 75.3 256.6\r\n",
      "2318.0 78.0 264.4\r\n",
      "2328.0 59.4 193.7\r\n",
      "2338.0 51.8 159.1\r\n",
      "2348.0 32.9 118.7\r\n",
      "2357.9 23.9 86.2\r\n",
      "2367.8 28.6 104.0\r\n",
      "2377.8 32.5 119.7\r\n",
      "2387.8 44.5 140.6\r\n",
      "2397.9 56.9 203.5\r\n",
      "2408.0 57.5 201.8\r\n",
      "2418.0 54.3 178.2\r\n",
      "2428.1 61.3 206.0\r\n",
      "2438.1 68.8 205.2\r\n",
      "2448.2 77.6 232.1\r\n",
      "2458.2 79.8 259.4\r\n",
      "2468.3 89.4 276.1\r\n",
      "2478.4 80.7 244.3\r\n",
      "2488.4 56.7 185.2\r\n"
     ]
    }
   ],
   "source": [
    "# Ice Data Taken from Measurement of South Pole ice transparency with the IceCube\n",
    "# LED calibration system https://arxiv.org/pdf/1301.5361.pdf\n",
    "!cat /kaggle/input/icecubetransparency/ice_transparency.txt"
   ]
  },
  {
   "cell_type": "code",
   "execution_count": 10,
   "id": "77c94cac",
   "metadata": {
    "execution": {
     "iopub.execute_input": "2024-02-06T08:41:17.271516Z",
     "iopub.status.busy": "2024-02-06T08:41:17.270734Z",
     "iopub.status.idle": "2024-02-06T08:41:17.279130Z",
     "shell.execute_reply": "2024-02-06T08:41:17.278069Z"
    },
    "papermill": {
     "duration": 0.02318,
     "end_time": "2024-02-06T08:41:17.281374",
     "exception": false,
     "start_time": "2024-02-06T08:41:17.258194",
     "status": "completed"
    },
    "tags": []
   },
   "outputs": [],
   "source": [
    "def ice_transparency(data_path, center_depth=1950):\n",
    "    \"\"\"\n",
    "    Calculates normalized ice scattering and absorption for all depths,\n",
    "    using data from Measurement of South Pole ice transparency with the IceCube\n",
    "    LED calibration system\n",
    "\n",
    "    Center_depth is center of IceCube underground array\n",
    "    \"\"\"\n",
    "    sensor_amount = 500\n",
    "\n",
    "    df = pd.read_csv(data_path, delim_whitespace=True)\n",
    "    df[\"z_score\"] = (df[\"depth\"] - center_depth) / sensor_amount\n",
    "    df[[\"scattering_len_norm\", \"absorption_len_norm\"]] = RobustScaler().fit_transform(\n",
    "        df[[\"scattering_len\", \"absorption_len\"]]\n",
    "    )\n",
    "\n",
    "    # These are both roughly equivalent after scaling\n",
    "    # TODO: Make new feature (1-(sc+ab)/2)?\n",
    "    f_scattering = interp1d(df[\"z_score\"], df[\"scattering_len_norm\"])\n",
    "    f_absorption = interp1d(df[\"z_score\"], df[\"absorption_len_norm\"])\n",
    "    return f_scattering, f_absorption"
   ]
  },
  {
   "cell_type": "markdown",
   "id": "c0e05c32",
   "metadata": {
    "papermill": {
     "duration": 0.010634,
     "end_time": "2024-02-06T08:41:17.302868",
     "exception": false,
     "start_time": "2024-02-06T08:41:17.292234",
     "status": "completed"
    },
    "tags": []
   },
   "source": [
    "### Making Dataset class"
   ]
  },
  {
   "cell_type": "code",
   "execution_count": 11,
   "id": "12486db9",
   "metadata": {
    "execution": {
     "iopub.execute_input": "2024-02-06T08:41:17.326216Z",
     "iopub.status.busy": "2024-02-06T08:41:17.325682Z",
     "iopub.status.idle": "2024-02-06T08:41:17.341777Z",
     "shell.execute_reply": "2024-02-06T08:41:17.340776Z"
    },
    "papermill": {
     "duration": 0.030302,
     "end_time": "2024-02-06T08:41:17.343967",
     "exception": false,
     "start_time": "2024-02-06T08:41:17.313665",
     "status": "completed"
    },
    "tags": []
   },
   "outputs": [],
   "source": [
    "class IceCubeDataset(Dataset):\n",
    "    \"\"\"\n",
    "    Used to transfer data from table format to graph format, with each event\n",
    "    represented by singular graph\n",
    "    \"\"\"\n",
    "    def __init__(\n",
    "        self,\n",
    "        batch_id,\n",
    "        event_ids,\n",
    "        sensor_df,\n",
    "        mode=\"test\",\n",
    "        y=None,\n",
    "        pulse_limit=220,  # >95% events have 220 pulses or less\n",
    "    ):\n",
    "        super().__init__()\n",
    "        self.y = y\n",
    "        self.event_ids = event_ids\n",
    "        self.batch_df = pd.read_parquet(f\"{INPUT_PATH}/{mode}/batch_{batch_id}.parquet\")\n",
    "        self.sensor_df = sensor_df\n",
    "        self.pulse_limit = pulse_limit\n",
    "        self.f_scattering, self.f_absorption = ice_transparency(TRANSPARENCY_PATH)\n",
    "        # Rescaling parameters\n",
    "        self.batch_df[\"time\"] = (self.batch_df[\"time\"] - 1.0e04) / 3.0e4\n",
    "        self.batch_df[\"charge\"] = np.log10(self.batch_df[\"charge\"]) / 3.0\n",
    "        self.batch_df[\"auxiliary\"] = self.batch_df[\"auxiliary\"].astype(int) - 0.5\n",
    "\n",
    "    def len(self):\n",
    "        return len(self.event_ids)\n",
    "\n",
    "    def get(self, idx):\n",
    "        \"\"\"\n",
    "        Returns data for given event index\n",
    "        \"\"\"\n",
    "        event_id = self.event_ids[idx]\n",
    "        event = self.batch_df.loc[event_id]\n",
    "\n",
    "        # represent each event by a single graph\n",
    "        event = pd.merge(event, self.sensor_df, on=\"sensor_id\")\n",
    "        col = [\"x\", \"y\", \"z\", \"time\", \"charge\", \"auxiliary\"]\n",
    "\n",
    "        x = event[col].values.astype(float)\n",
    "        x = torch.tensor(x, dtype=torch.float32)\n",
    "        # A data object describing a homogeneous graph\n",
    "        data = Data(x=x, n_pulses=torch.tensor(x.shape[0], dtype=torch.int32))\n",
    "\n",
    "        # Downsample the large events\n",
    "        if data.n_pulses > self.pulse_limit:\n",
    "            data.x = data.x[np.random.choice(data.n_pulses, self.pulse_limit)]\n",
    "            data.n_pulses = torch.tensor(self.pulse_limit, dtype=torch.int32)\n",
    "\n",
    "        # Builds graph from the k-nearest neighbours.\n",
    "        data.edge_index = knn_graph(\n",
    "            data.x,  # x, y, z\n",
    "            k=8,\n",
    "            cosine=False,\n",
    "            loop=False\n",
    "        )\n",
    "\n",
    "        if self.y is not None:\n",
    "            y = self.y.loc[idx, :].values\n",
    "            y = torch.tensor(y, dtype=torch.float32)\n",
    "            data.y = y\n",
    "\n",
    "        return data"
   ]
  },
  {
   "cell_type": "markdown",
   "id": "5145bcb5",
   "metadata": {
    "papermill": {
     "duration": 0.010614,
     "end_time": "2024-02-06T08:41:17.365349",
     "exception": false,
     "start_time": "2024-02-06T08:41:17.354735",
     "status": "completed"
    },
    "tags": []
   },
   "source": [
    "### Preparing sensors data"
   ]
  },
  {
   "cell_type": "code",
   "execution_count": 12,
   "id": "e51db4df",
   "metadata": {
    "execution": {
     "iopub.execute_input": "2024-02-06T08:41:17.388277Z",
     "iopub.status.busy": "2024-02-06T08:41:17.387970Z",
     "iopub.status.idle": "2024-02-06T08:41:17.398105Z",
     "shell.execute_reply": "2024-02-06T08:41:17.397165Z"
    },
    "papermill": {
     "duration": 0.024134,
     "end_time": "2024-02-06T08:41:17.400242",
     "exception": false,
     "start_time": "2024-02-06T08:41:17.376108",
     "status": "completed"
    },
    "tags": []
   },
   "outputs": [],
   "source": [
    "def prepare_sensors():\n",
    "    \"\"\"\n",
    "    Preparing sensors position and quantum efficiency to be used\n",
    "    as input to model\n",
    "    \"\"\"\n",
    "    sensors = pd.read_csv(f\"{INPUT_PATH}/sensor_geometry.csv\").astype(\n",
    "        {\n",
    "            \"sensor_id\": np.int16,\n",
    "            \"x\": np.float32,\n",
    "            \"y\": np.float32,\n",
    "            \"z\": np.float32,\n",
    "        }\n",
    "    )\n",
    "    sensors[\"string\"] = 0\n",
    "    sensors[\"qe\"] = 1\n",
    "\n",
    "    # 60 DOMs per string\n",
    "    for i in range(len(sensors) // 60):\n",
    "        start, end = i * 60, (i * 60) + 60\n",
    "        sensors.loc[start:end, \"string\"] = i\n",
    "\n",
    "        # High Quantum Efficiency in the lower 50 DOMs\n",
    "        # https://arxiv.org/pdf/2209.03042.pdf (Figure 1)\n",
    "        # DeepCore located on 8 strings\n",
    "        if i in range(78, 86):\n",
    "            start_veto, end_veto = i * 60, (i * 60) + 10\n",
    "            start_core, end_core = end_veto + 1, (i * 60) + 60\n",
    "            # The DOMs deployed in DeepCore have an efficiency that is roughly\n",
    "            # a factor of 1.35 times the QE of standard DOMs\n",
    "            sensors.loc[start_core:end_core, \"qe\"] = 1.35\n",
    "\n",
    "    # https://github.com/graphnet-team/graphnet/blob/b2bad25528652587ab0cdb7cf2335ee254cfa2db/src/graphnet/models/detector/icecube.py#L33-L41\n",
    "    # Assume that \"rde\" (relative dom efficiency) is equivalent to QE\n",
    "    sensors[\"x\"] /= 500\n",
    "    sensors[\"y\"] /= 500\n",
    "    sensors[\"z\"] /= 500\n",
    "    sensors[\"qe\"] -= 1.25\n",
    "    sensors[\"qe\"] /= 0.25\n",
    "\n",
    "    return sensors"
   ]
  },
  {
   "cell_type": "code",
   "execution_count": 13,
   "id": "8e9ed114",
   "metadata": {
    "execution": {
     "iopub.execute_input": "2024-02-06T08:41:17.423694Z",
     "iopub.status.busy": "2024-02-06T08:41:17.422968Z",
     "iopub.status.idle": "2024-02-06T08:41:17.428398Z",
     "shell.execute_reply": "2024-02-06T08:41:17.427158Z"
    },
    "papermill": {
     "duration": 0.019306,
     "end_time": "2024-02-06T08:41:17.430560",
     "exception": false,
     "start_time": "2024-02-06T08:41:17.411254",
     "status": "completed"
    },
    "tags": []
   },
   "outputs": [
    {
     "name": "stdout",
     "output_type": "stream",
     "text": [
      "/kaggle/input/icecube-neutrinos-in-deep-ice/train_meta.parquet\n"
     ]
    }
   ],
   "source": [
    "print(f\"{INPUT_PATH}/train_meta.parquet\")"
   ]
  },
  {
   "cell_type": "code",
   "execution_count": 14,
   "id": "72422ea8",
   "metadata": {
    "execution": {
     "iopub.execute_input": "2024-02-06T08:41:17.454011Z",
     "iopub.status.busy": "2024-02-06T08:41:17.453398Z",
     "iopub.status.idle": "2024-02-06T08:41:17.524836Z",
     "shell.execute_reply": "2024-02-06T08:41:17.523804Z"
    },
    "papermill": {
     "duration": 0.085829,
     "end_time": "2024-02-06T08:41:17.527158",
     "exception": false,
     "start_time": "2024-02-06T08:41:17.441329",
     "status": "completed"
    },
    "tags": []
   },
   "outputs": [
    {
     "data": {
      "text/html": [
       "<div>\n",
       "<style scoped>\n",
       "    .dataframe tbody tr th:only-of-type {\n",
       "        vertical-align: middle;\n",
       "    }\n",
       "\n",
       "    .dataframe tbody tr th {\n",
       "        vertical-align: top;\n",
       "    }\n",
       "\n",
       "    .dataframe thead th {\n",
       "        text-align: right;\n",
       "    }\n",
       "</style>\n",
       "<table border=\"1\" class=\"dataframe\">\n",
       "  <thead>\n",
       "    <tr style=\"text-align: right;\">\n",
       "      <th></th>\n",
       "      <th>sensor_id</th>\n",
       "      <th>x</th>\n",
       "      <th>y</th>\n",
       "      <th>z</th>\n",
       "      <th>string</th>\n",
       "      <th>qe</th>\n",
       "    </tr>\n",
       "  </thead>\n",
       "  <tbody>\n",
       "    <tr>\n",
       "      <th>0</th>\n",
       "      <td>0</td>\n",
       "      <td>-0.51228</td>\n",
       "      <td>-1.04216</td>\n",
       "      <td>0.99206</td>\n",
       "      <td>0</td>\n",
       "      <td>-1.0</td>\n",
       "    </tr>\n",
       "    <tr>\n",
       "      <th>1</th>\n",
       "      <td>1</td>\n",
       "      <td>-0.51228</td>\n",
       "      <td>-1.04216</td>\n",
       "      <td>0.95802</td>\n",
       "      <td>0</td>\n",
       "      <td>-1.0</td>\n",
       "    </tr>\n",
       "    <tr>\n",
       "      <th>2</th>\n",
       "      <td>2</td>\n",
       "      <td>-0.51228</td>\n",
       "      <td>-1.04216</td>\n",
       "      <td>0.92398</td>\n",
       "      <td>0</td>\n",
       "      <td>-1.0</td>\n",
       "    </tr>\n",
       "    <tr>\n",
       "      <th>3</th>\n",
       "      <td>3</td>\n",
       "      <td>-0.51228</td>\n",
       "      <td>-1.04216</td>\n",
       "      <td>0.88994</td>\n",
       "      <td>0</td>\n",
       "      <td>-1.0</td>\n",
       "    </tr>\n",
       "    <tr>\n",
       "      <th>4</th>\n",
       "      <td>4</td>\n",
       "      <td>-0.51228</td>\n",
       "      <td>-1.04216</td>\n",
       "      <td>0.85590</td>\n",
       "      <td>0</td>\n",
       "      <td>-1.0</td>\n",
       "    </tr>\n",
       "    <tr>\n",
       "      <th>...</th>\n",
       "      <td>...</td>\n",
       "      <td>...</td>\n",
       "      <td>...</td>\n",
       "      <td>...</td>\n",
       "      <td>...</td>\n",
       "      <td>...</td>\n",
       "    </tr>\n",
       "    <tr>\n",
       "      <th>5155</th>\n",
       "      <td>5155</td>\n",
       "      <td>-0.02194</td>\n",
       "      <td>0.01344</td>\n",
       "      <td>-0.94478</td>\n",
       "      <td>85</td>\n",
       "      <td>0.4</td>\n",
       "    </tr>\n",
       "    <tr>\n",
       "      <th>5156</th>\n",
       "      <td>5156</td>\n",
       "      <td>-0.02194</td>\n",
       "      <td>0.01344</td>\n",
       "      <td>-0.95878</td>\n",
       "      <td>85</td>\n",
       "      <td>0.4</td>\n",
       "    </tr>\n",
       "    <tr>\n",
       "      <th>5157</th>\n",
       "      <td>5157</td>\n",
       "      <td>-0.02194</td>\n",
       "      <td>0.01344</td>\n",
       "      <td>-0.97280</td>\n",
       "      <td>85</td>\n",
       "      <td>0.4</td>\n",
       "    </tr>\n",
       "    <tr>\n",
       "      <th>5158</th>\n",
       "      <td>5158</td>\n",
       "      <td>-0.02194</td>\n",
       "      <td>0.01344</td>\n",
       "      <td>-0.98682</td>\n",
       "      <td>85</td>\n",
       "      <td>0.4</td>\n",
       "    </tr>\n",
       "    <tr>\n",
       "      <th>5159</th>\n",
       "      <td>5159</td>\n",
       "      <td>-0.02194</td>\n",
       "      <td>0.01344</td>\n",
       "      <td>-1.00146</td>\n",
       "      <td>85</td>\n",
       "      <td>0.4</td>\n",
       "    </tr>\n",
       "  </tbody>\n",
       "</table>\n",
       "<p>5160 rows × 6 columns</p>\n",
       "</div>"
      ],
      "text/plain": [
       "      sensor_id        x        y        z  string   qe\n",
       "0             0 -0.51228 -1.04216  0.99206       0 -1.0\n",
       "1             1 -0.51228 -1.04216  0.95802       0 -1.0\n",
       "2             2 -0.51228 -1.04216  0.92398       0 -1.0\n",
       "3             3 -0.51228 -1.04216  0.88994       0 -1.0\n",
       "4             4 -0.51228 -1.04216  0.85590       0 -1.0\n",
       "...         ...      ...      ...      ...     ...  ...\n",
       "5155       5155 -0.02194  0.01344 -0.94478      85  0.4\n",
       "5156       5156 -0.02194  0.01344 -0.95878      85  0.4\n",
       "5157       5157 -0.02194  0.01344 -0.97280      85  0.4\n",
       "5158       5158 -0.02194  0.01344 -0.98682      85  0.4\n",
       "5159       5159 -0.02194  0.01344 -1.00146      85  0.4\n",
       "\n",
       "[5160 rows x 6 columns]"
      ]
     },
     "execution_count": 14,
     "metadata": {},
     "output_type": "execute_result"
    }
   ],
   "source": [
    "sensors = prepare_sensors()\n",
    "sensors"
   ]
  },
  {
   "cell_type": "code",
   "execution_count": 15,
   "id": "439adf75",
   "metadata": {
    "execution": {
     "iopub.execute_input": "2024-02-06T08:41:17.551868Z",
     "iopub.status.busy": "2024-02-06T08:41:17.551118Z",
     "iopub.status.idle": "2024-02-06T08:41:53.007456Z",
     "shell.execute_reply": "2024-02-06T08:41:53.006406Z"
    },
    "papermill": {
     "duration": 35.482511,
     "end_time": "2024-02-06T08:41:53.021370",
     "exception": false,
     "start_time": "2024-02-06T08:41:17.538859",
     "status": "completed"
    },
    "tags": []
   },
   "outputs": [
    {
     "data": {
      "text/html": [
       "<div>\n",
       "<style scoped>\n",
       "    .dataframe tbody tr th:only-of-type {\n",
       "        vertical-align: middle;\n",
       "    }\n",
       "\n",
       "    .dataframe tbody tr th {\n",
       "        vertical-align: top;\n",
       "    }\n",
       "\n",
       "    .dataframe thead th {\n",
       "        text-align: right;\n",
       "    }\n",
       "</style>\n",
       "<table border=\"1\" class=\"dataframe\">\n",
       "  <thead>\n",
       "    <tr style=\"text-align: right;\">\n",
       "      <th></th>\n",
       "      <th>batch_id</th>\n",
       "      <th>event_id</th>\n",
       "      <th>azimuth</th>\n",
       "      <th>zenith</th>\n",
       "    </tr>\n",
       "  </thead>\n",
       "  <tbody>\n",
       "    <tr>\n",
       "      <th>0</th>\n",
       "      <td>1</td>\n",
       "      <td>24</td>\n",
       "      <td>5.029555</td>\n",
       "      <td>2.087498</td>\n",
       "    </tr>\n",
       "    <tr>\n",
       "      <th>1</th>\n",
       "      <td>1</td>\n",
       "      <td>41</td>\n",
       "      <td>0.417742</td>\n",
       "      <td>1.549686</td>\n",
       "    </tr>\n",
       "    <tr>\n",
       "      <th>2</th>\n",
       "      <td>1</td>\n",
       "      <td>59</td>\n",
       "      <td>1.160466</td>\n",
       "      <td>2.401942</td>\n",
       "    </tr>\n",
       "    <tr>\n",
       "      <th>3</th>\n",
       "      <td>1</td>\n",
       "      <td>67</td>\n",
       "      <td>5.845952</td>\n",
       "      <td>0.759054</td>\n",
       "    </tr>\n",
       "    <tr>\n",
       "      <th>4</th>\n",
       "      <td>1</td>\n",
       "      <td>72</td>\n",
       "      <td>0.653719</td>\n",
       "      <td>0.939117</td>\n",
       "    </tr>\n",
       "    <tr>\n",
       "      <th>...</th>\n",
       "      <td>...</td>\n",
       "      <td>...</td>\n",
       "      <td>...</td>\n",
       "      <td>...</td>\n",
       "    </tr>\n",
       "    <tr>\n",
       "      <th>131953919</th>\n",
       "      <td>660</td>\n",
       "      <td>2147483597</td>\n",
       "      <td>5.895612</td>\n",
       "      <td>0.333071</td>\n",
       "    </tr>\n",
       "    <tr>\n",
       "      <th>131953920</th>\n",
       "      <td>660</td>\n",
       "      <td>2147483603</td>\n",
       "      <td>3.273695</td>\n",
       "      <td>1.503301</td>\n",
       "    </tr>\n",
       "    <tr>\n",
       "      <th>131953921</th>\n",
       "      <td>660</td>\n",
       "      <td>2147483617</td>\n",
       "      <td>2.945376</td>\n",
       "      <td>1.723253</td>\n",
       "    </tr>\n",
       "    <tr>\n",
       "      <th>131953922</th>\n",
       "      <td>660</td>\n",
       "      <td>2147483626</td>\n",
       "      <td>1.616582</td>\n",
       "      <td>1.937025</td>\n",
       "    </tr>\n",
       "    <tr>\n",
       "      <th>131953923</th>\n",
       "      <td>660</td>\n",
       "      <td>2147483627</td>\n",
       "      <td>3.062654</td>\n",
       "      <td>1.842630</td>\n",
       "    </tr>\n",
       "  </tbody>\n",
       "</table>\n",
       "<p>131953924 rows × 4 columns</p>\n",
       "</div>"
      ],
      "text/plain": [
       "           batch_id    event_id   azimuth    zenith\n",
       "0                 1          24  5.029555  2.087498\n",
       "1                 1          41  0.417742  1.549686\n",
       "2                 1          59  1.160466  2.401942\n",
       "3                 1          67  5.845952  0.759054\n",
       "4                 1          72  0.653719  0.939117\n",
       "...             ...         ...       ...       ...\n",
       "131953919       660  2147483597  5.895612  0.333071\n",
       "131953920       660  2147483603  3.273695  1.503301\n",
       "131953921       660  2147483617  2.945376  1.723253\n",
       "131953922       660  2147483626  1.616582  1.937025\n",
       "131953923       660  2147483627  3.062654  1.842630\n",
       "\n",
       "[131953924 rows x 4 columns]"
      ]
     },
     "execution_count": 15,
     "metadata": {},
     "output_type": "execute_result"
    }
   ],
   "source": [
    "meta = pd.read_parquet(\n",
    "   f\"{INPUT_PATH}/train_meta.parquet\", columns=[\"batch_id\", \"event_id\", \"azimuth\", \"zenith\"]\n",
    ").astype(_dtype)\n",
    "meta"
   ]
  },
  {
   "cell_type": "code",
   "execution_count": 16,
   "id": "6f489779",
   "metadata": {
    "execution": {
     "iopub.execute_input": "2024-02-06T08:41:53.051117Z",
     "iopub.status.busy": "2024-02-06T08:41:53.050787Z",
     "iopub.status.idle": "2024-02-06T08:41:53.889344Z",
     "shell.execute_reply": "2024-02-06T08:41:53.888485Z"
    },
    "papermill": {
     "duration": 0.858768,
     "end_time": "2024-02-06T08:41:53.891912",
     "exception": false,
     "start_time": "2024-02-06T08:41:53.033144",
     "status": "completed"
    },
    "tags": []
   },
   "outputs": [],
   "source": [
    "batch_ids = meta[\"batch_id\"].unique()"
   ]
  },
  {
   "cell_type": "markdown",
   "id": "c2e56e04",
   "metadata": {
    "papermill": {
     "duration": 0.011307,
     "end_time": "2024-02-06T08:41:53.915059",
     "exception": false,
     "start_time": "2024-02-06T08:41:53.903752",
     "status": "completed"
    },
    "tags": []
   },
   "source": [
    "## Graph Summary"
   ]
  },
  {
   "cell_type": "code",
   "execution_count": 17,
   "id": "328bf67a",
   "metadata": {
    "execution": {
     "iopub.execute_input": "2024-02-06T08:41:53.939202Z",
     "iopub.status.busy": "2024-02-06T08:41:53.938870Z",
     "iopub.status.idle": "2024-02-06T08:42:00.175136Z",
     "shell.execute_reply": "2024-02-06T08:42:00.174262Z"
    },
    "papermill": {
     "duration": 6.251491,
     "end_time": "2024-02-06T08:42:00.177944",
     "exception": false,
     "start_time": "2024-02-06T08:41:53.926453",
     "status": "completed"
    },
    "tags": []
   },
   "outputs": [],
   "source": [
    "batch = 1\n",
    "event_ids = meta[meta[\"batch_id\"] == batch][\"event_id\"].tolist()\n",
    "y = meta[meta[\"batch_id\"] == batch][['zenith', 'azimuth']].reset_index(drop=True)\n",
    "train_dataset = IceCubeDataset(batch, event_ids, sensors, mode='train', y=y)"
   ]
  },
  {
   "cell_type": "code",
   "execution_count": 18,
   "id": "a32bebde",
   "metadata": {
    "execution": {
     "iopub.execute_input": "2024-02-06T08:42:00.203971Z",
     "iopub.status.busy": "2024-02-06T08:42:00.203658Z",
     "iopub.status.idle": "2024-02-06T08:42:01.292066Z",
     "shell.execute_reply": "2024-02-06T08:42:01.290906Z"
    },
    "papermill": {
     "duration": 1.103993,
     "end_time": "2024-02-06T08:42:01.294682",
     "exception": false,
     "start_time": "2024-02-06T08:42:00.190689",
     "status": "completed"
    },
    "tags": []
   },
   "outputs": [
    {
     "name": "stdout",
     "output_type": "stream",
     "text": [
      "\n",
      "Dataset: IceCubeDataset(200000):\n",
      "====================\n",
      "Number of graphs: 200000\n",
      "Number of features: 6\n",
      "\n",
      "Data(x=[109, 6], n_pulses=109, edge_index=[2, 872], y=[2])\n",
      "=============================================================\n",
      "Number of nodes: 109\n",
      "Number of edges: 872\n",
      "Average node degree: 8.00\n",
      "Has isolated nodes: False\n",
      "Has self-loops: False\n",
      "Is undirected: False\n"
     ]
    }
   ],
   "source": [
    "print()\n",
    "print(f'Dataset: {train_dataset}:')\n",
    "print('====================')\n",
    "print(f'Number of graphs: {len(train_dataset)}')\n",
    "print(f'Number of features: {train_dataset.num_features}')\n",
    "\n",
    "train_data = train_dataset[30]  # Get the first graph object.\n",
    "\n",
    "print()\n",
    "print(train_data)\n",
    "print('=============================================================')\n",
    "\n",
    "# Gather some statistics about the first graph.\n",
    "print(f'Number of nodes: {train_data.num_nodes}')\n",
    "print(f'Number of edges: {train_data.num_edges}')\n",
    "print(f'Average node degree: {train_data.num_edges / train_data.num_nodes:.2f}')\n",
    "print(f'Has isolated nodes: {train_data.has_isolated_nodes()}')\n",
    "print(f'Has self-loops: {train_data.has_self_loops()}')\n",
    "print(f'Is undirected: {train_data.is_undirected()}')"
   ]
  },
  {
   "cell_type": "code",
   "execution_count": 19,
   "id": "d3061cd2",
   "metadata": {
    "execution": {
     "iopub.execute_input": "2024-02-06T08:42:01.319987Z",
     "iopub.status.busy": "2024-02-06T08:42:01.319666Z",
     "iopub.status.idle": "2024-02-06T08:42:08.520456Z",
     "shell.execute_reply": "2024-02-06T08:42:08.518830Z"
    },
    "papermill": {
     "duration": 7.216388,
     "end_time": "2024-02-06T08:42:08.523157",
     "exception": false,
     "start_time": "2024-02-06T08:42:01.306769",
     "status": "completed"
    },
    "tags": []
   },
   "outputs": [
    {
     "data": {
      "image/png": "[encoded data removed]",
      "text/plain": [
       "<Figure size 640x480 with 1 Axes>"
      ]
     },
     "metadata": {},
     "output_type": "display_data"
    }
   ],
   "source": [
    "import networkx as nx\n",
    "from torch_geometric.utils import to_networkx\n",
    "\n",
    "nxg = to_networkx(train_data)\n",
    "nx.draw(nxg, with_labels=True)"
   ]
  },
  {
   "cell_type": "markdown",
   "id": "63b9adbf",
   "metadata": {
    "papermill": {
     "duration": 0.01561,
     "end_time": "2024-02-06T08:42:08.559965",
     "exception": false,
     "start_time": "2024-02-06T08:42:08.544355",
     "status": "completed"
    },
    "tags": []
   },
   "source": [
    "## Model"
   ]
  },
  {
   "cell_type": "code",
   "execution_count": 20,
   "id": "edd8cb03",
   "metadata": {
    "execution": {
     "iopub.execute_input": "2024-02-06T08:42:08.588315Z",
     "iopub.status.busy": "2024-02-06T08:42:08.587967Z",
     "iopub.status.idle": "2024-02-06T08:42:11.645269Z",
     "shell.execute_reply": "2024-02-06T08:42:11.644327Z"
    },
    "papermill": {
     "duration": 3.074809,
     "end_time": "2024-02-06T08:42:11.647980",
     "exception": false,
     "start_time": "2024-02-06T08:42:08.573171",
     "status": "completed"
    },
    "tags": []
   },
   "outputs": [
    {
     "name": "stdout",
     "output_type": "stream",
     "text": [
      "EdgeModel(\n",
      "  (convolution): ModuleList(\n",
      "    (0): DynEdgeConv(nn=Sequential(\n",
      "      (0): Linear(in_features=12, out_features=128, bias=True)\n",
      "      (1): LeakyReLU(negative_slope=0.01)\n",
      "      (2): Linear(in_features=128, out_features=256, bias=True)\n",
      "      (3): LeakyReLU(negative_slope=0.01)\n",
      "    ))\n",
      "    (1): DynEdgeConv(nn=Sequential(\n",
      "      (0): Linear(in_features=512, out_features=336, bias=True)\n",
      "      (1): LeakyReLU(negative_slope=0.01)\n",
      "      (2): Linear(in_features=336, out_features=256, bias=True)\n",
      "      (3): LeakyReLU(negative_slope=0.01)\n",
      "    ))\n",
      "    (2): DynEdgeConv(nn=Sequential(\n",
      "      (0): Linear(in_features=512, out_features=336, bias=True)\n",
      "      (1): LeakyReLU(negative_slope=0.01)\n",
      "      (2): Linear(in_features=336, out_features=256, bias=True)\n",
      "      (3): LeakyReLU(negative_slope=0.01)\n",
      "    ))\n",
      "  )\n",
      "  (post_process): Sequential(\n",
      "    (0): Linear(in_features=774, out_features=336, bias=True)\n",
      "    (1): LeakyReLU(negative_slope=0.01)\n",
      "    (2): Linear(in_features=336, out_features=256, bias=True)\n",
      "    (3): LeakyReLU(negative_slope=0.01)\n",
      "  )\n",
      "  (readout): Sequential(\n",
      "    (0): Linear(in_features=778, out_features=128, bias=True)\n",
      "    (1): LeakyReLU(negative_slope=0.01)\n",
      "  )\n",
      "  (out): Sequential(\n",
      "    (0): Linear(in_features=128, out_features=2, bias=True)\n",
      "    (1): BatchNorm1d(2, eps=1e-05, momentum=0.1, affine=True, track_running_stats=True)\n",
      "    (2): LeakyReLU(negative_slope=0.01)\n",
      "  )\n",
      ")\n",
      "using  cuda\n"
     ]
    }
   ],
   "source": [
    "model = EdgeModel(train_dataset.num_features)\n",
    "print(model)\n",
    "device = torch.device('cuda' if torch.cuda.is_available() else 'cpu')\n",
    "print('using ', device)\n",
    "model = model.to(device)"
   ]
  },
  {
   "cell_type": "markdown",
   "id": "f9ad518d",
   "metadata": {
    "papermill": {
     "duration": 0.012994,
     "end_time": "2024-02-06T08:42:11.674868",
     "exception": false,
     "start_time": "2024-02-06T08:42:11.661874",
     "status": "completed"
    },
    "tags": []
   },
   "source": [
    "## Training"
   ]
  },
  {
   "cell_type": "code",
   "execution_count": 21,
   "id": "9cf5e6be",
   "metadata": {
    "execution": {
     "iopub.execute_input": "2024-02-06T08:42:11.704185Z",
     "iopub.status.busy": "2024-02-06T08:42:11.703838Z",
     "iopub.status.idle": "2024-02-06T12:53:15.717709Z",
     "shell.execute_reply": "2024-02-06T12:53:15.716593Z"
    },
    "papermill": {
     "duration": 15064.045708,
     "end_time": "2024-02-06T12:53:15.735261",
     "exception": false,
     "start_time": "2024-02-06T08:42:11.689553",
     "status": "completed"
    },
    "tags": []
   },
   "outputs": [
    {
     "name": "stdout",
     "output_type": "stream",
     "text": [
      "Batch: 395\n",
      "====================\n",
      "cuda\n",
      "Epoch: 0, Loss: 1.5354\n",
      "Epoch: 1, Loss: 1.5339\n",
      "Epoch: 2, Loss: 1.5332\n",
      "Epoch: 3, Loss: 1.5324\n",
      "Epoch: 4, Loss: 1.5223\n",
      "Epoch: 5, Loss: 1.4950\n",
      "Batch: 431\n",
      "====================\n",
      "cuda\n",
      "Epoch: 0, Loss: 1.4749\n",
      "Epoch: 1, Loss: 1.4607\n",
      "Epoch: 2, Loss: 1.4442\n",
      "Epoch: 3, Loss: 1.4259\n",
      "Epoch: 4, Loss: 1.4120\n",
      "Epoch: 5, Loss: 1.4005\n",
      "Batch: 042\n",
      "====================\n",
      "cuda\n",
      "Epoch: 0, Loss: 1.3977\n",
      "Epoch: 1, Loss: 1.3884\n",
      "Epoch: 2, Loss: 1.3844\n",
      "Epoch: 3, Loss: 1.3786\n",
      "Epoch: 4, Loss: 1.3762\n",
      "Epoch: 5, Loss: 1.3725\n"
     ]
    }
   ],
   "source": [
    "if MODE == 'train':\n",
    "    for batch in random.sample(range(1, 600), TRAIN_BATCHES):\n",
    "        i = 1\n",
    "        path = '/kaggle/working/EdgeConvV3_batch_' + str(i) + '.pth'\n",
    "        print(f'Batch: {batch:03d}')\n",
    "        print('====================')\n",
    "        event_ids = meta[meta[\"batch_id\"] == batch][\"event_id\"].tolist()\n",
    "        y = meta[meta[\"batch_id\"] == batch][['azimuth', 'zenith']].reset_index(drop=True)\n",
    "\n",
    "        train_dataset = IceCubeDataset(batch, event_ids, sensors, mode='train', y=y)\n",
    "        loader = DataLoader(train_dataset, batch_size=512, shuffle=True)\n",
    "        print(device)\n",
    "        model.fit(loader, device=device)\n",
    "        torch.save(model, path)\n",
    "elif MODE == 'resume':\n",
    "    model = torch.load(MODEL_PATH)\n",
    "    for batch in random.sample(range(1, 600), TRAIN_BATCHES):\n",
    "        i = 1\n",
    "        path = '/kaggle/working/EdgeConvV3_batch_' + str(i) + '.pth'\n",
    "        print(f'Batch: {batch:03d}')\n",
    "        print('====================')\n",
    "        event_ids = meta[meta[\"batch_id\"] == batch][\"event_id\"].tolist()\n",
    "        y = meta[meta[\"batch_id\"] == batch][['azimuth', 'zenith']].reset_index(drop=True)\n",
    "\n",
    "        train_dataset = IceCubeDataset(batch, event_ids, sensors, mode='train', y=y)\n",
    "        loader = DataLoader(train_dataset, batch_size=512, shuffle=True)\n",
    "        print(device)\n",
    "        model.fit(loader, device=device)\n",
    "        torch.save(model, path)\n",
    "else:\n",
    "    model = torch.load(MODEL_PATH)"
   ]
  },
  {
   "cell_type": "code",
   "execution_count": 22,
   "id": "43d1c814",
   "metadata": {
    "execution": {
     "iopub.execute_input": "2024-02-06T12:53:15.767626Z",
     "iopub.status.busy": "2024-02-06T12:53:15.766709Z",
     "iopub.status.idle": "2024-02-06T12:53:15.783267Z",
     "shell.execute_reply": "2024-02-06T12:53:15.782379Z"
    },
    "papermill": {
     "duration": 0.034779,
     "end_time": "2024-02-06T12:53:15.785367",
     "exception": false,
     "start_time": "2024-02-06T12:53:15.750588",
     "status": "completed"
    },
    "tags": []
   },
   "outputs": [],
   "source": [
    "torch.save(model, '/kaggle/working/EdgeConvV6.pth')"
   ]
  },
  {
   "cell_type": "markdown",
   "id": "1984d8c7",
   "metadata": {
    "papermill": {
     "duration": 0.014813,
     "end_time": "2024-02-06T12:53:15.815285",
     "exception": false,
     "start_time": "2024-02-06T12:53:15.800472",
     "status": "completed"
    },
    "tags": []
   },
   "source": [
    "## Validation"
   ]
  },
  {
   "cell_type": "markdown",
   "id": "a286a7a0",
   "metadata": {
    "papermill": {
     "duration": 0.01473,
     "end_time": "2024-02-06T12:53:15.844943",
     "exception": false,
     "start_time": "2024-02-06T12:53:15.830213",
     "status": "completed"
    },
    "tags": []
   },
   "source": [
    "## TODO\n",
    "validate using competition metric"
   ]
  },
  {
   "cell_type": "code",
   "execution_count": 23,
   "id": "b273cf53",
   "metadata": {
    "execution": {
     "iopub.execute_input": "2024-02-06T12:53:15.876980Z",
     "iopub.status.busy": "2024-02-06T12:53:15.876384Z",
     "iopub.status.idle": "2024-02-06T13:07:23.695824Z",
     "shell.execute_reply": "2024-02-06T13:07:23.694653Z"
    },
    "papermill": {
     "duration": 847.853298,
     "end_time": "2024-02-06T13:07:23.713516",
     "exception": false,
     "start_time": "2024-02-06T12:53:15.860218",
     "status": "completed"
    },
    "tags": []
   },
   "outputs": [
    {
     "name": "stdout",
     "output_type": "stream",
     "text": [
      "617\n",
      "Loss: 1.3990\n"
     ]
    }
   ],
   "source": [
    "batch = random.randint(601, 660)\n",
    "print(batch)\n",
    "\n",
    "event_ids = meta[meta[\"batch_id\"] == batch][\"event_id\"].tolist()\n",
    "y = meta[meta[\"batch_id\"] == batch][['azimuth', 'zenith']].reset_index(drop=True)\n",
    "\n",
    "val_dataset = IceCubeDataset(batch, event_ids, sensors, mode='train', y=y)\n",
    "loader = DataLoader(val_dataset, batch_size=512, shuffle=False)\n",
    "output = model.validate(loader, device=device)"
   ]
  }
 ],
 "metadata": {
  "kaggle": {
   "accelerator": "gpu",
   "dataSources": [
    {
     "databundleVersionId": 4319132,
     "sourceId": 38257,
     "sourceType": "competition"
    },
    {
     "datasetId": 2862267,
     "sourceId": 4935931,
     "sourceType": "datasetVersion"
    },
    {
     "datasetId": 3120713,
     "sourceId": 5389852,
     "sourceType": "datasetVersion"
    },
    {
     "datasetId": 3124889,
     "sourceId": 5390720,
     "sourceType": "datasetVersion"
    },
    {
     "datasetId": 3615022,
     "sourceId": 6286441,
     "sourceType": "datasetVersion"
    },
    {
     "datasetId": 3474549,
     "sourceId": 6655460,
     "sourceType": "datasetVersion"
    },
    {
     "datasetId": 4353103,
     "sourceId": 7558815,
     "sourceType": "datasetVersion"
    },
    {
     "sourceId": 117945598,
     "sourceType": "kernelVersion"
    }
   ],
   "dockerImageVersionId": 30446,
   "isGpuEnabled": true,
   "isInternetEnabled": false,
   "language": "python",
   "sourceType": "notebook"
  },
  "kernelspec": {
   "display_name": "Python 3 (ipykernel)",
   "language": "python",
   "name": "python3"
  },
  "language_info": {
   "codemirror_mode": {
    "name": "ipython",
    "version": 3
   },
   "file_extension": ".py",
   "mimetype": "text/x-python",
   "name": "python",
   "nbconvert_exporter": "python",
   "pygments_lexer": "ipython3",
   "version": "3.8.18"
  },
  "papermill": {
   "default_parameters": {},
   "duration": 17840.032795,
   "end_time": "2024-02-06T13:07:27.968031",
   "environment_variables": {},
   "exception": true,
   "input_path": "__notebook__.ipynb",
   "output_path": "__notebook__.ipynb",
   "parameters": {},
   "start_time": "2024-02-06T08:10:07.935236",
   "version": "2.4.0"
  }
 },
 "nbformat": 4,
 "nbformat_minor": 5
}
